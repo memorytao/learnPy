{
 "cells": [
  {
   "cell_type": "code",
   "execution_count": 1,
   "id": "8d91f504",
   "metadata": {},
   "outputs": [
    {
     "name": "stdout",
     "output_type": "stream",
     "text": [
      "My first Notebook by Python\n"
     ]
    }
   ],
   "source": [
    "print(\"My first Notebook by Python\")"
   ]
  },
  {
   "cell_type": "code",
   "execution_count": null,
   "id": "363aec25",
   "metadata": {},
   "outputs": [],
   "source": [
    "Done"
   ]
  }
 ],
 "metadata": {
  "kernelspec": {
   "display_name": "Python 3 (ipykernel)",
   "language": "python",
   "name": "python3"
  },
  "language_info": {
   "codemirror_mode": {
    "name": "ipython",
    "version": 3
   },
   "file_extension": ".py",
   "mimetype": "text/x-python",
   "name": "python",
   "nbconvert_exporter": "python",
   "pygments_lexer": "ipython3",
   "version": "3.10.7"
  }
 },
 "nbformat": 4,
 "nbformat_minor": 5
}
