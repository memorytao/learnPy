{
 "cells": [
  {
   "cell_type": "code",
   "execution_count": 74,
   "id": "9cf3b9e5",
   "metadata": {},
   "outputs": [],
   "source": [
    "endpoint = 'https://restcountries.com/v3.1/all'\n",
    "\n",
    "makeProfile = \"\"\n",
    "makeSubscription = \"\"\n",
    "\n",
    "checkBalance = \"\"\n",
    "topUp = \"\"\n",
    "\n",
    "strToJson = ''' \n",
    "{\"name\":\"test name\", \"last_name\":\"test last\"}\n",
    "'''"
   ]
  },
  {
   "cell_type": "code",
   "execution_count": 75,
   "id": "40fe2fe4",
   "metadata": {},
   "outputs": [],
   "source": [
    "import requests\n",
    "import json"
   ]
  },
  {
   "cell_type": "code",
   "execution_count": 76,
   "id": "b53eadef",
   "metadata": {
    "scrolled": true
   },
   "outputs": [],
   "source": [
    "val = json.loads(strToJson)"
   ]
  },
  {
   "cell_type": "code",
   "execution_count": 77,
   "id": "4dba42bd",
   "metadata": {},
   "outputs": [
    {
     "data": {
      "text/plain": [
       "{'name': 'test name', 'last_name': 'test last'}"
      ]
     },
     "execution_count": 77,
     "metadata": {},
     "output_type": "execute_result"
    }
   ],
   "source": [
    "val"
   ]
  },
  {
   "cell_type": "code",
   "execution_count": null,
   "id": "4ad7dc38",
   "metadata": {},
   "outputs": [],
   "source": []
  }
 ],
 "metadata": {
  "kernelspec": {
   "display_name": "Python 3 (ipykernel)",
   "language": "python",
   "name": "python3"
  },
  "language_info": {
   "codemirror_mode": {
    "name": "ipython",
    "version": 3
   },
   "file_extension": ".py",
   "mimetype": "text/x-python",
   "name": "python",
   "nbconvert_exporter": "python",
   "pygments_lexer": "ipython3",
   "version": "3.10.7"
  }
 },
 "nbformat": 4,
 "nbformat_minor": 5
}
